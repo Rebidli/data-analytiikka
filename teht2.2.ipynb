{
 "cells": [
  {
   "cell_type": "markdown",
   "metadata": {},
   "source": [
    "Tuodaan tarvittava kirjasto"
   ]
  },
  {
   "cell_type": "code",
   "execution_count": 22,
   "metadata": {},
   "outputs": [],
   "source": [
    "import pandas as pd"
   ]
  },
  {
   "cell_type": "markdown",
   "metadata": {},
   "source": [
    "CSV-tiedoston lataus"
   ]
  },
  {
   "cell_type": "code",
   "execution_count": 23,
   "metadata": {},
   "outputs": [],
   "source": [
    "\n",
    "file_path = \"koeti_riista_tau_001_en.csv\"\n",
    "df = pd.read_csv(file_path, encoding=\"ISO-8859-1\")\n",
    "\n"
   ]
  },
  {
   "cell_type": "markdown",
   "metadata": {},
   "source": [
    "Ryhmitellään tiedot kuukausien mukaan ja lasketaan onnettomuuksien määrä"
   ]
  },
  {
   "cell_type": "code",
   "execution_count": 24,
   "metadata": {},
   "outputs": [],
   "source": [
    "monthly_accidents = df.groupby('month').size()"
   ]
  },
  {
   "cell_type": "markdown",
   "metadata": {},
   "source": [
    "Tulostetaan haluttu tieto ja selvitetään samalla kuukausi, jossa on tapahtunut eniten eläinonnettomuuksia"
   ]
  },
  {
   "cell_type": "code",
   "execution_count": 25,
   "metadata": {},
   "outputs": [
    {
     "name": "stdout",
     "output_type": "stream",
     "text": [
      " Kuukausi  Määrä\n",
      " 1         4110 \n",
      " 2         2194 \n",
      " 3         2007 \n",
      " 4         3007 \n",
      " 5         6301 \n",
      " 6         5551 \n",
      " 7         4516 \n",
      " 8         4450 \n",
      " 9         5995 \n",
      "10         8467 \n",
      "11        10962 \n",
      "12         6382 \n",
      "\n",
      "Kuukausi, jossa eniten onnettomuuksia: 11\n"
     ]
    }
   ],
   "source": [
    "monthly_df = monthly_accidents.reset_index(name='Onnettomuudet')\n",
    "monthly_df.columns = ['Kuukausi', 'Määrä']\n",
    "print(monthly_df.to_string(index=False, justify='left'))\n",
    "\n",
    "most_accidents_month = monthly_accidents.idxmax()\n",
    "print(f\"\\nKuukausi, jossa eniten onnettomuuksia: {most_accidents_month}\")\n"
   ]
  },
  {
   "cell_type": "code",
   "execution_count": 26,
   "metadata": {},
   "outputs": [],
   "source": [
    "road_wildlife_accidents = df.groupby(['roadTypeShort', 'wildlifeSpeciesName']).size().reset_index(name='Onnettomuuksien määrä')\n",
    "\n",
    "road_wildlife_pivot = road_wildlife_accidents.pivot(index='wildlifeSpeciesName', columns='roadTypeShort', values='Onnettomuuksien määrä').fillna(0).astype(int)\n",
    "\n",
    "if \"Puuttuu\" in road_wildlife_pivot.columns:\n",
    "    columns_order = [col for col in road_wildlife_pivot.columns if col != \"Puuttuu\"] + [\"Puuttuu\"]\n",
    "    road_wildlife_pivot = road_wildlife_pivot[columns_order]\n",
    "\n",
    "road_wildlife_pivot.columns.name = \"Tiet:\"\n",
    "road_wildlife_pivot.index.name = \"Villieläimet:\"\n",
    "\n"
   ]
  },
  {
   "cell_type": "code",
   "execution_count": 27,
   "metadata": {},
   "outputs": [
    {
     "name": "stdout",
     "output_type": "stream",
     "text": [
      "\n",
      "Eläinonnettomuudet tieosuuksittain:\n",
      "\n",
      "Tiet:            Kantatie  Kunnan tie  Moottoriliikennetie  Moottoritie  Muu maantie  Seututie  Valtatie  Yksityinen tie  Puuttuu\n",
      "Villieläimet:                                                                                                                    \n",
      "Hirvi            1115        62         29                   174         1551         1738      3354      1031            139    \n",
      "Kuusipeura          2         0          0                    11           31           17        16         8              2    \n",
      "Metsäkauris      1949      1277        144                  1277         5851         4611      4448      2621            288    \n",
      "Metsäpeura        106         0          0                     0           22           70        92        33              2    \n",
      "Valkohäntäpeura  3107       332         33                   677         9040         7880      6543      3813            278    \n",
      "Villisika           9         1          7                    16           42           28        37        23              5    \n"
     ]
    }
   ],
   "source": [
    "print(\"\\nEläinonnettomuudet tieosuuksittain:\\n\")\n",
    "print(road_wildlife_pivot.to_string(justify='left'))"
   ]
  },
  {
   "cell_type": "markdown",
   "metadata": {},
   "source": [
    "Tässä mihin vuorokaudenakaan onnettomuuksia tapahtuu eniten"
   ]
  },
  {
   "cell_type": "code",
   "execution_count": 28,
   "metadata": {},
   "outputs": [],
   "source": [
    "df['eventTime'] = pd.to_datetime(df['eventTime'], utc=True, errors='coerce') \n",
    "df['hour'] = df['eventTime'].dt.hour \n",
    "hourly_accidents = df['hour'].value_counts().sort_index()"
   ]
  },
  {
   "cell_type": "code",
   "execution_count": 29,
   "metadata": {},
   "outputs": [
    {
     "name": "stdout",
     "output_type": "stream",
     "text": [
      "\n",
      "Onnettomuudet vuorokauden tunneittain:\n",
      "\n",
      "Klo 00:00 - 853 onnettomuutta\n",
      "Klo 01:00 - 913 onnettomuutta\n",
      "Klo 02:00 - 1426 onnettomuutta\n",
      "Klo 03:00 - 2859 onnettomuutta\n",
      "Klo 04:00 - 4054 onnettomuutta\n",
      "Klo 05:00 - 4593 onnettomuutta\n",
      "Klo 06:00 - 3890 onnettomuutta\n",
      "Klo 07:00 - 2792 onnettomuutta\n",
      "Klo 08:00 - 2071 onnettomuutta\n",
      "Klo 09:00 - 1669 onnettomuutta\n",
      "Klo 10:00 - 1537 onnettomuutta\n",
      "Klo 11:00 - 1527 onnettomuutta\n",
      "Klo 12:00 - 1558 onnettomuutta\n",
      "Klo 13:00 - 1947 onnettomuutta\n",
      "Klo 14:00 - 3201 onnettomuutta\n",
      "Klo 15:00 - 4818 onnettomuutta\n",
      "Klo 16:00 - 4809 onnettomuutta\n",
      "Klo 17:00 - 4565 onnettomuutta\n",
      "Klo 18:00 - 4134 onnettomuutta\n",
      "Klo 19:00 - 3713 onnettomuutta\n",
      "Klo 20:00 - 2927 onnettomuutta\n",
      "Klo 21:00 - 1802 onnettomuutta\n",
      "Klo 22:00 - 1331 onnettomuutta\n",
      "Klo 23:00 - 953 onnettomuutta\n"
     ]
    }
   ],
   "source": [
    "print(\"\\nOnnettomuudet vuorokauden tunneittain:\\n\")\n",
    "for hour, count in hourly_accidents.items():\n",
    "    print(f\"Klo {int(hour):02d}:00 - {count} onnettomuutta\")\n"
   ]
  },
  {
   "cell_type": "code",
   "execution_count": 30,
   "metadata": {},
   "outputs": [
    {
     "name": "stdout",
     "output_type": "stream",
     "text": [
      "\n",
      "Vaarallisin vuorokaudenaika on klo 15:00\n"
     ]
    }
   ],
   "source": [
    "most_dangerous_hour = hourly_accidents.idxmax()\n",
    "print(f\"\\nVaarallisin vuorokaudenaika on klo {int(most_dangerous_hour):02d}:00\")\n"
   ]
  }
 ],
 "metadata": {
  "kernelspec": {
   "display_name": ".venv",
   "language": "python",
   "name": "python3"
  },
  "language_info": {
   "codemirror_mode": {
    "name": "ipython",
    "version": 3
   },
   "file_extension": ".py",
   "mimetype": "text/x-python",
   "name": "python",
   "nbconvert_exporter": "python",
   "pygments_lexer": "ipython3",
   "version": "3.13.2"
  }
 },
 "nbformat": 4,
 "nbformat_minor": 2
}
