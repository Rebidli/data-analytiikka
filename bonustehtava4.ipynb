{
 "cells": [
  {
   "cell_type": "code",
   "execution_count": 2,
   "id": "f3d51019",
   "metadata": {},
   "outputs": [],
   "source": [
    "# 📦 Kirjastot\n",
    "import pandas as pd\n",
    "import matplotlib.pyplot as plt\n",
    "import seaborn as sns\n",
    "from sklearn.model_selection import train_test_split\n",
    "from sklearn.tree import DecisionTreeClassifier\n",
    "from sklearn.metrics import classification_report, confusion_matrix\n"
   ]
  },
  {
   "cell_type": "code",
   "execution_count": 3,
   "id": "d78bb75e",
   "metadata": {},
   "outputs": [],
   "source": [
    "# 📁 Datan luku\n",
    "apukka_df = pd.read_csv(\"Rovaniemi_Apukka_lampotila.csv\", sep=\",\")\n",
    "rautatieasema_df = pd.read_csv(\"Rovaniemi_rautatieasema_lampotila.csv\", sep=\",\")\n"
   ]
  },
  {
   "cell_type": "code",
   "execution_count": 4,
   "id": "9b66136a",
   "metadata": {},
   "outputs": [],
   "source": [
    "# 🧼 Siivous ja päivämäärän luonti\n",
    "for df in [apukka_df, rautatieasema_df]:\n",
    "    df.rename(columns=lambda x: x.strip(), inplace=True)\n",
    "    df.rename(columns={\"Vuosi\": \"year\", \"Kuukausi\": \"month\", \"Päivä\": \"day\"}, inplace=True)\n",
    "    df[\"Pvm\"] = pd.to_datetime(df[[\"year\", \"month\", \"day\"]])\n",
    "    for col in [\"Lumensyvyys [cm]\", \"Sademäärä [mm]\", \"Ilman keskilämpötila [°C]\"]:\n",
    "        df[col] = pd.to_numeric(df[col].replace(\"-\", pd.NA), errors='coerce')\n",
    "\n",
    "# ✅ Valitaan tarvittavat sarakkeet\n",
    "apukka = apukka_df[[\"Pvm\", \"Lumensyvyys [cm]\", \"Sademäärä [mm]\", \"Ilman keskilämpötila [°C]\"]].copy()\n",
    "rautatie = rautatieasema_df[[\"Pvm\", \"Lumensyvyys [cm]\", \"Sademäärä [mm]\", \"Ilman keskilämpötila [°C]\"]].copy()\n",
    "\n",
    "apukka.columns = [\"Pvm\", \"Lumensyvyys_Apukka\", \"Sade_Apukka\", \"Lampotila_Apukka\"]\n",
    "rautatie.columns = [\"Pvm\", \"Lumensyvyys_Rautatie\", \"Sade_Rautatie\", \"Lampotila_Rautatie\"]"
   ]
  },
  {
   "cell_type": "code",
   "execution_count": 5,
   "id": "49d512e1",
   "metadata": {},
   "outputs": [],
   "source": [
    "# 🔗 Yhdistetään datat\n",
    "df = pd.merge(apukka, rautatie, on=\"Pvm\", how=\"inner\")\n",
    "df[\"Lumensyvyys_keskiarvo\"] = df[[\"Lumensyvyys_Apukka\", \"Lumensyvyys_Rautatie\"]].mean(axis=1)\n",
    "df[\"Sade_keskiarvo\"] = df[[\"Sade_Apukka\", \"Sade_Rautatie\"]].mean(axis=1)\n",
    "df[\"Lampotila_keskiarvo\"] = df[[\"Lampotila_Apukka\", \"Lampotila_Rautatie\"]].mean(axis=1)\n",
    "df = df.sort_values(\"Pvm\").reset_index(drop=True)"
   ]
  },
  {
   "cell_type": "code",
   "execution_count": 6,
   "id": "6844b392",
   "metadata": {},
   "outputs": [],
   "source": [
    "# 🎯 Kohdemuuttujan luonti\n",
    "df[\"snow_today\"] = df[\"Lumensyvyys_keskiarvo\"]\n",
    "df[\"snow_tomorrow\"] = df[\"snow_today\"].shift(-1)\n",
    "df[\"target\"] = (df[\"snow_tomorrow\"] < df[\"snow_today\"]).astype(int)\n",
    "final_df = df[(df[\"snow_today\"] > 0) & (~df[\"snow_today\"].isna())].copy()"
   ]
  },
  {
   "cell_type": "code",
   "execution_count": 7,
   "id": "86f8b208",
   "metadata": {},
   "outputs": [],
   "source": [
    "# 🎓 Mallin opetus\n",
    "features = [\"Lampotila_keskiarvo\", \"Sade_keskiarvo\", \"snow_today\"]\n",
    "X = final_df[features]\n",
    "y = final_df[\"target\"]\n",
    "\n",
    "X_train, X_test, y_train, y_test = train_test_split(X, y, test_size=0.2, random_state=42)\n",
    "clf = DecisionTreeClassifier(random_state=42)\n",
    "clf.fit(X_train, y_train)\n",
    "y_pred = clf.predict(X_test)"
   ]
  },
  {
   "cell_type": "code",
   "execution_count": 8,
   "id": "8365d8d4",
   "metadata": {},
   "outputs": [
    {
     "name": "stdout",
     "output_type": "stream",
     "text": [
      "Classification Report:\n",
      "               precision    recall  f1-score   support\n",
      "\n",
      "           0       0.73      0.74      0.74       109\n",
      "           1       0.66      0.65      0.65        85\n",
      "\n",
      "    accuracy                           0.70       194\n",
      "   macro avg       0.70      0.70      0.70       194\n",
      "weighted avg       0.70      0.70      0.70       194\n",
      "\n"
     ]
    }
   ],
   "source": [
    "# 🧾 Arviointi\n",
    "print(\"Classification Report:\\n\", classification_report(y_test, y_pred))\n",
    "conf_mat = confusion_matrix(y_test, y_pred)"
   ]
  },
  {
   "cell_type": "code",
   "execution_count": 9,
   "id": "50d76163",
   "metadata": {},
   "outputs": [
    {
     "data": {
      "image/png": "[encoded data removed]",
      "text/plain": [
       "<Figure size 500x400 with 2 Axes>"
      ]
     },
     "metadata": {},
     "output_type": "display_data"
    }
   ],
   "source": [
    "# 🔥 Sekamatriisi\n",
    "plt.figure(figsize=(5, 4))\n",
    "sns.heatmap(conf_mat, annot=True, fmt=\"d\", cmap=\"Blues\", xticklabels=[\"Ei sula\", \"Sulaa\"], yticklabels=[\"Ei sula\", \"Sulaa\"])\n",
    "plt.xlabel(\"Ennuste\")\n",
    "plt.ylabel(\"Todellinen\")\n",
    "plt.title(\"Sekamatriisi\")\n",
    "plt.tight_layout()\n",
    "plt.show()"
   ]
  },
  {
   "cell_type": "code",
   "execution_count": 10,
   "id": "81e92acf",
   "metadata": {},
   "outputs": [
    {
     "name": "stdout",
     "output_type": "stream",
     "text": [
      "Feature Importances:\n",
      " Lampotila_keskiarvo    0.574417\n",
      "snow_today             0.276000\n",
      "Sade_keskiarvo         0.149583\n",
      "dtype: float64\n"
     ]
    }
   ],
   "source": [
    "# 📈 Tärkeimmät piirteet\n",
    "importances = pd.Series(clf.feature_importances_, index=features).sort_values(ascending=False)\n",
    "print(\"Feature Importances:\\n\", importances)\n"
   ]
  }
 ],
 "metadata": {
  "kernelspec": {
   "display_name": ".venv",
   "language": "python",
   "name": "python3"
  },
  "language_info": {
   "codemirror_mode": {
    "name": "ipython",
    "version": 3
   },
   "file_extension": ".py",
   "mimetype": "text/x-python",
   "name": "python",
   "nbconvert_exporter": "python",
   "pygments_lexer": "ipython3",
   "version": "3.13.2"
  }
 },
 "nbformat": 4,
 "nbformat_minor": 5
}
