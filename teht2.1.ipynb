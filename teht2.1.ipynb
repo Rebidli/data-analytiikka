{
 "cells": [
  {
   "cell_type": "markdown",
   "metadata": {},
   "source": [
    "#Tehtävä Numby"
   ]
  },
  {
   "cell_type": "code",
   "execution_count": 91,
   "metadata": {},
   "outputs": [],
   "source": [
    "import numpy as np"
   ]
  },
  {
   "cell_type": "markdown",
   "metadata": {},
   "source": [
    "##Tässä luodaan 100X100 matriisi satunnaisista kokonaisluvuista väliltä 1-100"
   ]
  },
  {
   "cell_type": "code",
   "execution_count": 92,
   "metadata": {},
   "outputs": [],
   "source": [
    "matrix = np.random.randint(1, 101, (100, 100))"
   ]
  },
  {
   "cell_type": "markdown",
   "metadata": {},
   "source": [
    "##Laskee keskiarvon"
   ]
  },
  {
   "cell_type": "code",
   "execution_count": 93,
   "metadata": {},
   "outputs": [],
   "source": [
    "mean_value = np.mean(matrix)\n",
    "sum_value = np.sum(matrix)\n",
    "min_value = np.min(matrix)\n",
    "max_value = np.max(matrix)"
   ]
  },
  {
   "cell_type": "markdown",
   "metadata": {},
   "source": [
    "###Tulostaa tulokset"
   ]
  },
  {
   "cell_type": "code",
   "execution_count": 94,
   "metadata": {},
   "outputs": [
    {
     "name": "stdout",
     "output_type": "stream",
     "text": [
      "Matriisin keskiarvo: 49.9969\n",
      "Matriisin summa: 499969\n",
      "Matriisin pienin arvo: 1\n",
      "Matriisin suurin arvo: 100\n"
     ]
    }
   ],
   "source": [
    "print(\"Matriisin keskiarvo:\", mean_value)\n",
    "print(\"Matriisin summa:\", sum_value)\n",
    "print(\"Matriisin pienin arvo:\", min_value)\n",
    "print(\"Matriisin suurin arvo:\", max_value)"
   ]
  },
  {
   "cell_type": "markdown",
   "metadata": {},
   "source": [
    "#Tehtävä Pandas\n",
    "-Simuloi 10 000 nopanheittoa ja laskee silmälukujen määrän"
   ]
  },
  {
   "cell_type": "code",
   "execution_count": null,
   "metadata": {},
   "outputs": [],
   "source": [
    "dice_rolls = np.random.randint(1, 7, 10000)\n",
    "counts = np.bincount(dice_rolls, minlength=7)[1:] "
   ]
  },
  {
   "cell_type": "markdown",
   "metadata": {},
   "source": [
    "##Tulostetaan tulokset"
   ]
  },
  {
   "cell_type": "code",
   "execution_count": 96,
   "metadata": {},
   "outputs": [
    {
     "name": "stdout",
     "output_type": "stream",
     "text": [
      "\n",
      "Nopanheittojen tulokset:\n",
      "Silmäluku 1: 1711 kertaa\n",
      "Silmäluku 2: 1673 kertaa\n",
      "Silmäluku 3: 1599 kertaa\n",
      "Silmäluku 4: 1678 kertaa\n",
      "Silmäluku 5: 1649 kertaa\n",
      "Silmäluku 6: 1690 kertaa\n"
     ]
    }
   ],
   "source": [
    "print(\"\\nNopanheittojen tulokset:\")\n",
    "for i in range(1, 7):\n",
    "    print(f\"Silmäluku {i}: {counts[i-1]} kertaa\")"
   ]
  }
 ],
 "metadata": {
  "kernelspec": {
   "display_name": ".venv",
   "language": "python",
   "name": "python3"
  },
  "language_info": {
   "codemirror_mode": {
    "name": "ipython",
    "version": 3
   },
   "file_extension": ".py",
   "mimetype": "text/x-python",
   "name": "python",
   "nbconvert_exporter": "python",
   "pygments_lexer": "ipython3",
   "version": "3.13.2"
  }
 },
 "nbformat": 4,
 "nbformat_minor": 2
}
