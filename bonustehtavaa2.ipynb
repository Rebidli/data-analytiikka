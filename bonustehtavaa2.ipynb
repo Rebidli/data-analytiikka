{
 "cells": [
  {
   "cell_type": "markdown",
   "id": "92377c21",
   "metadata": {},
   "source": [
    "Tuodaan kirjasto"
   ]
  },
  {
   "cell_type": "code",
   "execution_count": 21,
   "id": "e0066288",
   "metadata": {},
   "outputs": [],
   "source": [
    "import numpy as np"
   ]
  },
  {
   "cell_type": "markdown",
   "id": "e8fb6e96",
   "metadata": {},
   "source": [
    "#2.1 – Tasaväliset arvot väliltä 0–1\n",
    "Tässä tehtävässä tehdään taulukko, jossa on 20 lukua. Ne ovat tasaisesti jakautuneet nollan ja ykkösen välille."
   ]
  },
  {
   "cell_type": "code",
   "execution_count": 22,
   "id": "f3253a5c",
   "metadata": {},
   "outputs": [
    {
     "name": "stdout",
     "output_type": "stream",
     "text": [
      "teht 2.1  Tasaväliset arvot (0-1):\n",
      "[0.         0.05263158 0.10526316 0.15789474 0.21052632 0.26315789\n",
      " 0.31578947 0.36842105 0.42105263 0.47368421 0.52631579 0.57894737\n",
      " 0.63157895 0.68421053 0.73684211 0.78947368 0.84210526 0.89473684\n",
      " 0.94736842 1.        ]\n"
     ]
    }
   ],
   "source": [
    "start = 0\n",
    "stop = 1\n",
    "count = 20\n",
    "spacing_array = np.linspace(start, stop, num=count)\n",
    "\n",
    "print(\"teht 2.1  Tasaväliset arvot (0-1):\")\n",
    "print(spacing_array)\n"
   ]
  },
  {
   "cell_type": "markdown",
   "id": "2affbc88",
   "metadata": {},
   "source": [
    "#2.2 – Kokonaisluvut 0–99 matriisimuodossa\n",
    "\n",
    "Tässä tehtävässä tehdään numerot 0–99. Ne laitetaan matriisiin eli taulukkoon, jossa on 5 riviä ja 20 saraketta."
   ]
  },
  {
   "cell_type": "code",
   "execution_count": 25,
   "id": "9256bb3c",
   "metadata": {},
   "outputs": [
    {
     "name": "stdout",
     "output_type": "stream",
     "text": [
      "teht 2.2 - 5x20 matriisi:\n",
      "[[ 0  1  2  3  4  5  6  7  8  9 10 11 12 13 14 15 16 17 18 19]\n",
      " [20 21 22 23 24 25 26 27 28 29 30 31 32 33 34 35 36 37 38 39]\n",
      " [40 41 42 43 44 45 46 47 48 49 50 51 52 53 54 55 56 57 58 59]\n",
      " [60 61 62 63 64 65 66 67 68 69 70 71 72 73 74 75 76 77 78 79]\n",
      " [80 81 82 83 84 85 86 87 88 89 90 91 92 93 94 95 96 97 98 99]]\n"
     ]
    }
   ],
   "source": [
    "numbers = np.arange(100)\n",
    "reshaped_matrix = numbers.reshape((5, -1)) \n",
    "\n",
    "print(\"teht 2.2 - 5x20 matriisi:\")\n",
    "print(reshaped_matrix)\n"
   ]
  },
  {
   "cell_type": "markdown",
   "id": "81d54712",
   "metadata": {},
   "source": [
    "#Tehtävä 2.3 – Satunnaiset luvut ja keskiarvo\n",
    "\n",
    "Tässä tehtävässä tehdään 15 satunnaista lukua. Niistä lasketaan keskiarvo ja kuinka paljon luvut vaihtelevat."
   ]
  },
  {
   "cell_type": "code",
   "execution_count": 31,
   "id": "bdf22e26",
   "metadata": {},
   "outputs": [
    {
     "name": "stdout",
     "output_type": "stream",
     "text": [
      "teht 2.3  Satunnaiset arvot:\n",
      "Data: [0.92800576 0.60396101 0.78472495 0.90475827 0.27723963 0.15469907\n",
      " 0.15219448 0.17564677 0.66254783 0.22997118 0.32284356 0.0545272\n",
      " 0.36608099 0.86197161 0.45015633]\n",
      "Keskiarvo: 0.462\n",
      "Keskihajonta: 0.294\n"
     ]
    }
   ],
   "source": [
    "rand_data = np.random.random_sample(15)\n",
    "mean_val = np.round(rand_data.mean(), 3)\n",
    "std_val = np.round(rand_data.std(), 3)\n",
    "\n",
    "print(\"teht 2.3  Satunnaiset arvot:\")\n",
    "print(\"Data:\", rand_data)\n",
    "print(\"Keskiarvo:\", mean_val)\n",
    "print(\"Keskihajonta:\", std_val)\n"
   ]
  }
 ],
 "metadata": {
  "kernelspec": {
   "display_name": ".venv",
   "language": "python",
   "name": "python3"
  },
  "language_info": {
   "codemirror_mode": {
    "name": "ipython",
    "version": 3
   },
   "file_extension": ".py",
   "mimetype": "text/x-python",
   "name": "python",
   "nbconvert_exporter": "python",
   "pygments_lexer": "ipython3",
   "version": "3.13.2"
  }
 },
 "nbformat": 4,
 "nbformat_minor": 5
}
