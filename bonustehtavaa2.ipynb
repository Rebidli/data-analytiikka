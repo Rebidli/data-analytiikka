{
 "cells": [
  {
   "cell_type": "markdown",
   "id": "92377c21",
   "metadata": {},
   "source": [
    "Tuodaan kirjasto"
   ]
  },
  {
   "cell_type": "code",
   "execution_count": 10,
   "id": "e0066288",
   "metadata": {},
   "outputs": [],
   "source": [
    "import numpy as np\n",
    "import seaborn as sns"
   ]
  },
  {
   "cell_type": "markdown",
   "id": "e8fb6e96",
   "metadata": {},
   "source": [
    "#2.1 – Tasaväliset arvot väliltä 0–1\n",
    "Tässä tehtävässä tehdään taulukko, jossa on 20 lukua. Ne ovat tasaisesti jakautuneet nollan ja ykkösen välille."
   ]
  },
  {
   "cell_type": "code",
   "execution_count": 11,
   "id": "f3253a5c",
   "metadata": {},
   "outputs": [
    {
     "name": "stdout",
     "output_type": "stream",
     "text": [
      "teht 2.1  Tasaväliset arvot (0-1):\n",
      "[0.         0.05263158 0.10526316 0.15789474 0.21052632 0.26315789\n",
      " 0.31578947 0.36842105 0.42105263 0.47368421 0.52631579 0.57894737\n",
      " 0.63157895 0.68421053 0.73684211 0.78947368 0.84210526 0.89473684\n",
      " 0.94736842 1.        ]\n"
     ]
    }
   ],
   "source": [
    "start = 0\n",
    "stop = 1\n",
    "count = 20\n",
    "spacing_array = np.linspace(start, stop, num=count)\n",
    "\n",
    "print(\"teht 2.1  Tasaväliset arvot (0-1):\")\n",
    "print(spacing_array)\n"
   ]
  },
  {
   "cell_type": "markdown",
   "id": "2affbc88",
   "metadata": {},
   "source": [
    "#2.2 – Kokonaisluvut 0–99 matriisimuodossa\n",
    "\n",
    "Tässä tehtävässä tehdään numerot 0–99. Ne laitetaan matriisiin eli taulukkoon, jossa on 5 riviä ja 20 saraketta."
   ]
  },
  {
   "cell_type": "code",
   "execution_count": 12,
   "id": "9256bb3c",
   "metadata": {},
   "outputs": [
    {
     "name": "stdout",
     "output_type": "stream",
     "text": [
      "teht 2.2 - 5x20 matriisi:\n",
      "[[ 0  1  2  3  4  5  6  7  8  9 10 11 12 13 14 15 16 17 18 19]\n",
      " [20 21 22 23 24 25 26 27 28 29 30 31 32 33 34 35 36 37 38 39]\n",
      " [40 41 42 43 44 45 46 47 48 49 50 51 52 53 54 55 56 57 58 59]\n",
      " [60 61 62 63 64 65 66 67 68 69 70 71 72 73 74 75 76 77 78 79]\n",
      " [80 81 82 83 84 85 86 87 88 89 90 91 92 93 94 95 96 97 98 99]]\n"
     ]
    }
   ],
   "source": [
    "numbers = np.arange(100)\n",
    "reshaped_matrix = numbers.reshape((5, -1)) \n",
    "\n",
    "print(\"teht 2.2 - 5x20 matriisi:\")\n",
    "print(reshaped_matrix)\n"
   ]
  },
  {
   "cell_type": "markdown",
   "id": "81d54712",
   "metadata": {},
   "source": [
    "#Tehtävä 2.3 – Satunnaiset luvut ja keskiarvo\n",
    "\n",
    "Tässä tehtävässä tehdään 15 satunnaista lukua. Niistä lasketaan keskiarvo ja kuinka paljon luvut vaihtelevat."
   ]
  },
  {
   "cell_type": "code",
   "execution_count": 13,
   "id": "bdf22e26",
   "metadata": {},
   "outputs": [
    {
     "name": "stdout",
     "output_type": "stream",
     "text": [
      "teht 2.3  Satunnaiset arvot:\n",
      "Data: [0.77538308 0.64874939 0.44809515 0.92008886 0.58694308 0.45288618\n",
      " 0.59890795 0.5774576  0.39663285 0.21867003 0.24559293 0.5019538\n",
      " 0.17068974 0.25628512 0.89475674]\n",
      "Keskiarvo: 0.513\n",
      "Keskihajonta: 0.228\n"
     ]
    }
   ],
   "source": [
    "rand_data = np.random.random_sample(15)\n",
    "mean_val = np.round(rand_data.mean(), 3)\n",
    "std_val = np.round(rand_data.std(), 3)\n",
    "\n",
    "print(\"teht 2.3  Satunnaiset arvot:\")\n",
    "print(\"Data:\", rand_data)\n",
    "print(\"Keskiarvo:\", mean_val)\n",
    "print(\"Keskihajonta:\", std_val)\n"
   ]
  },
  {
   "cell_type": "markdown",
   "id": "c8bcd119",
   "metadata": {},
   "source": [
    "Ladataan Titanic data"
   ]
  },
  {
   "cell_type": "code",
   "execution_count": 14,
   "id": "6cb05e07",
   "metadata": {},
   "outputs": [],
   "source": [
    "titanic = sns.load_dataset(\"titanic\")"
   ]
  },
  {
   "cell_type": "markdown",
   "id": "44f8897b",
   "metadata": {},
   "source": [
    "# Ryhmitellään sukupuolen ja luokan mukaan sekä lasketaanh selviydyineiden osuus"
   ]
  },
  {
   "cell_type": "code",
   "execution_count": 15,
   "id": "e49a2d12",
   "metadata": {},
   "outputs": [],
   "source": [
    "selviytymiset = titanic.groupby([\"sex\", \"pclass\"])[\"survived\"].mean().reset_index()"
   ]
  },
  {
   "cell_type": "markdown",
   "id": "65481743",
   "metadata": {},
   "source": [
    "# Muunnetaan prosentti muotoon"
   ]
  },
  {
   "cell_type": "code",
   "execution_count": 16,
   "id": "f44d9eec",
   "metadata": {},
   "outputs": [],
   "source": [
    "selviytymiset[\"survival_rate_percent\"] = (selviytymiset[\"survived\"] * 100).round(1)\n"
   ]
  },
  {
   "cell_type": "markdown",
   "id": "fe839650",
   "metadata": {},
   "source": [
    "# Tulostetaan "
   ]
  },
  {
   "cell_type": "code",
   "execution_count": 17,
   "id": "8d0499b6",
   "metadata": {},
   "outputs": [
    {
     "name": "stdout",
     "output_type": "stream",
     "text": [
      "Selviytymisprosentit sukupuolen ja luokan mukaan:\n",
      "\n",
      "      sex  pclass  survived  survival_rate_percent\n",
      "0  female       1  0.968085                   96.8\n",
      "1  female       2  0.921053                   92.1\n",
      "2  female       3  0.500000                   50.0\n",
      "3    male       1  0.368852                   36.9\n",
      "4    male       2  0.157407                   15.7\n",
      "5    male       3  0.135447                   13.5\n"
     ]
    }
   ],
   "source": [
    "print(\"Selviytymisprosentit sukupuolen ja luokan mukaan:\\n\")\n",
    "print(selviytymiset)"
   ]
  },
  {
   "cell_type": "markdown",
   "id": "a22eaac0",
   "metadata": {},
   "source": [
    "Ryhmitellään luokan mukaan ja tutkitaan, että vaikuttiko hinta selviytymiseen"
   ]
  },
  {
   "cell_type": "code",
   "execution_count": 18,
   "id": "783fab60",
   "metadata": {},
   "outputs": [
    {
     "name": "stdout",
     "output_type": "stream",
     "text": [
      "\n",
      "Lipun hinnan yhteys selviytymiseen:\n",
      "\n",
      "   pclass  survived       mean   median  count\n",
      "0       1         0  64.684007  44.7500     80\n",
      "1       1         1  95.608029  77.9583    136\n",
      "2       2         0  19.412328  13.0000     97\n",
      "3       2         1  22.055700  21.0000     87\n",
      "4       3         0  13.669364   8.0500    372\n",
      "5       3         1  13.694887   8.5167    119\n"
     ]
    }
   ],
   "source": [
    "fare_analysis = titanic.groupby([\"pclass\", \"survived\"])[\"fare\"].agg([\"mean\", \"median\", \"count\"]).reset_index()\n",
    "\n",
    "print(\"\\nLipun hinnan yhteys selviytymiseen:\\n\")\n",
    "print(fare_analysis)"
   ]
  }
 ],
 "metadata": {
  "kernelspec": {
   "display_name": ".venv",
   "language": "python",
   "name": "python3"
  },
  "language_info": {
   "codemirror_mode": {
    "name": "ipython",
    "version": 3
   },
   "file_extension": ".py",
   "mimetype": "text/x-python",
   "name": "python",
   "nbconvert_exporter": "python",
   "pygments_lexer": "ipython3",
   "version": "3.13.2"
  }
 },
 "nbformat": 4,
 "nbformat_minor": 5
}
